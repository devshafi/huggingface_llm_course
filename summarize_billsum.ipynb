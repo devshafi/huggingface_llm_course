{
 "cells": [
  {
   "cell_type": "markdown",
   "id": "c5b4af78",
   "metadata": {},
   "source": [
    "#### Install the required dependencies"
   ]
  },
  {
   "cell_type": "code",
   "execution_count": 1,
   "id": "6b80fe3a",
   "metadata": {},
   "outputs": [
    {
     "name": "stdout",
     "output_type": "stream",
     "text": [
      "Requirement already satisfied: transformers in ./.venv/lib/python3.10/site-packages (4.51.3)\n",
      "Requirement already satisfied: datasets in ./.venv/lib/python3.10/site-packages (3.5.1)\n",
      "Requirement already satisfied: evaluate in ./.venv/lib/python3.10/site-packages (0.4.3)\n",
      "Requirement already satisfied: rouge_score in ./.venv/lib/python3.10/site-packages (0.1.2)\n",
      "Requirement already satisfied: filelock in ./.venv/lib/python3.10/site-packages (from transformers) (3.18.0)\n",
      "Requirement already satisfied: huggingface-hub<1.0,>=0.30.0 in ./.venv/lib/python3.10/site-packages (from transformers) (0.30.2)\n",
      "Requirement already satisfied: numpy>=1.17 in ./.venv/lib/python3.10/site-packages (from transformers) (2.2.5)\n",
      "Requirement already satisfied: packaging>=20.0 in ./.venv/lib/python3.10/site-packages (from transformers) (25.0)\n",
      "Requirement already satisfied: pyyaml>=5.1 in ./.venv/lib/python3.10/site-packages (from transformers) (6.0.2)\n",
      "Requirement already satisfied: regex!=2019.12.17 in ./.venv/lib/python3.10/site-packages (from transformers) (2024.11.6)\n",
      "Requirement already satisfied: requests in ./.venv/lib/python3.10/site-packages (from transformers) (2.32.3)\n",
      "Requirement already satisfied: tokenizers<0.22,>=0.21 in ./.venv/lib/python3.10/site-packages (from transformers) (0.21.1)\n",
      "Requirement already satisfied: safetensors>=0.4.3 in ./.venv/lib/python3.10/site-packages (from transformers) (0.5.3)\n",
      "Requirement already satisfied: tqdm>=4.27 in ./.venv/lib/python3.10/site-packages (from transformers) (4.67.1)\n",
      "Requirement already satisfied: fsspec>=2023.5.0 in ./.venv/lib/python3.10/site-packages (from huggingface-hub<1.0,>=0.30.0->transformers) (2025.3.0)\n",
      "Requirement already satisfied: typing-extensions>=3.7.4.3 in ./.venv/lib/python3.10/site-packages (from huggingface-hub<1.0,>=0.30.0->transformers) (4.13.2)\n",
      "Requirement already satisfied: pyarrow>=15.0.0 in ./.venv/lib/python3.10/site-packages (from datasets) (20.0.0)\n",
      "Requirement already satisfied: dill<0.3.9,>=0.3.0 in ./.venv/lib/python3.10/site-packages (from datasets) (0.3.8)\n",
      "Requirement already satisfied: pandas in ./.venv/lib/python3.10/site-packages (from datasets) (2.2.3)\n",
      "Requirement already satisfied: xxhash in ./.venv/lib/python3.10/site-packages (from datasets) (3.5.0)\n",
      "Requirement already satisfied: multiprocess<0.70.17 in ./.venv/lib/python3.10/site-packages (from datasets) (0.70.16)\n",
      "Requirement already satisfied: aiohttp in ./.venv/lib/python3.10/site-packages (from datasets) (3.11.18)\n",
      "Requirement already satisfied: absl-py in ./.venv/lib/python3.10/site-packages (from rouge_score) (2.2.2)\n",
      "Requirement already satisfied: nltk in ./.venv/lib/python3.10/site-packages (from rouge_score) (3.9.1)\n",
      "Requirement already satisfied: six>=1.14.0 in ./.venv/lib/python3.10/site-packages (from rouge_score) (1.17.0)\n",
      "Requirement already satisfied: aiohappyeyeballs>=2.3.0 in ./.venv/lib/python3.10/site-packages (from aiohttp->datasets) (2.6.1)\n",
      "Requirement already satisfied: aiosignal>=1.1.2 in ./.venv/lib/python3.10/site-packages (from aiohttp->datasets) (1.3.2)\n",
      "Requirement already satisfied: async-timeout<6.0,>=4.0 in ./.venv/lib/python3.10/site-packages (from aiohttp->datasets) (5.0.1)\n",
      "Requirement already satisfied: attrs>=17.3.0 in ./.venv/lib/python3.10/site-packages (from aiohttp->datasets) (25.3.0)\n",
      "Requirement already satisfied: frozenlist>=1.1.1 in ./.venv/lib/python3.10/site-packages (from aiohttp->datasets) (1.6.0)\n",
      "Requirement already satisfied: multidict<7.0,>=4.5 in ./.venv/lib/python3.10/site-packages (from aiohttp->datasets) (6.4.3)\n",
      "Requirement already satisfied: propcache>=0.2.0 in ./.venv/lib/python3.10/site-packages (from aiohttp->datasets) (0.3.1)\n",
      "Requirement already satisfied: yarl<2.0,>=1.17.0 in ./.venv/lib/python3.10/site-packages (from aiohttp->datasets) (1.20.0)\n",
      "Requirement already satisfied: idna>=2.0 in ./.venv/lib/python3.10/site-packages (from yarl<2.0,>=1.17.0->aiohttp->datasets) (3.10)\n",
      "Requirement already satisfied: charset-normalizer<4,>=2 in ./.venv/lib/python3.10/site-packages (from requests->transformers) (3.4.1)\n",
      "Requirement already satisfied: urllib3<3,>=1.21.1 in ./.venv/lib/python3.10/site-packages (from requests->transformers) (2.4.0)\n",
      "Requirement already satisfied: certifi>=2017.4.17 in ./.venv/lib/python3.10/site-packages (from requests->transformers) (2025.4.26)\n",
      "Requirement already satisfied: click in ./.venv/lib/python3.10/site-packages (from nltk->rouge_score) (8.1.8)\n",
      "Requirement already satisfied: joblib in ./.venv/lib/python3.10/site-packages (from nltk->rouge_score) (1.4.2)\n",
      "Requirement already satisfied: python-dateutil>=2.8.2 in ./.venv/lib/python3.10/site-packages (from pandas->datasets) (2.9.0.post0)\n",
      "Requirement already satisfied: pytz>=2020.1 in ./.venv/lib/python3.10/site-packages (from pandas->datasets) (2025.2)\n",
      "Requirement already satisfied: tzdata>=2022.7 in ./.venv/lib/python3.10/site-packages (from pandas->datasets) (2025.2)\n",
      "Note: you may need to restart the kernel to use updated packages.\n"
     ]
    }
   ],
   "source": [
    "pip install transformers datasets evaluate rouge_score"
   ]
  },
  {
   "cell_type": "markdown",
   "id": "eda6e394",
   "metadata": {},
   "source": [
    "#### Load the dataset"
   ]
  },
  {
   "cell_type": "code",
   "execution_count": 2,
   "id": "214eae1f",
   "metadata": {},
   "outputs": [
    {
     "name": "stderr",
     "output_type": "stream",
     "text": [
      "/home/jovyan/Works/Practice/.venv/lib/python3.10/site-packages/tqdm/auto.py:21: TqdmWarning: IProgress not found. Please update jupyter and ipywidgets. See https://ipywidgets.readthedocs.io/en/stable/user_install.html\n",
      "  from .autonotebook import tqdm as notebook_tqdm\n"
     ]
    }
   ],
   "source": [
    "from datasets import load_dataset\n",
    "\n",
    "billsum = load_dataset(\"billsum\", split=\"ca_test\")"
   ]
  },
  {
   "cell_type": "code",
   "execution_count": 3,
   "id": "9de125e1",
   "metadata": {},
   "outputs": [],
   "source": [
    "billsum = billsum.train_test_split(test_size=0.2)"
   ]
  },
  {
   "cell_type": "code",
   "execution_count": 4,
   "id": "577b52fb",
   "metadata": {},
   "outputs": [
    {
     "data": {
      "text/plain": [
       "{'text': 'The people of the State of California do enact as follows:\\n\\n\\nSECTION 1.\\nSection 17204 of the Business and Professions Code is amended to read:\\n17204.\\nActions for Injunctions by Attorney General, District Attorney, County Counsel, and City Attorneys\\nActions for relief pursuant to this chapter shall be prosecuted exclusively in a court of competent jurisdiction by the Attorney General or a district attorney or by a county counsel authorized by agreement with the district attorney in actions involving violation of a county ordinance, or by a city attorney of a city having a population in excess of\\n750,000,\\n250,000,\\nor by a city attorney in a city and county or, with the consent of the district attorney, by a city prosecutor in a city having a full-time city prosecutor in the name of the people of the State of California upon their own complaint or upon the complaint of a board, officer, person, corporation, or association, or by a person who has suffered injury in fact and has lost money or property as a result of the unfair competition.\\nSEC. 2.\\nSection 17206 of the Business and Professions Code is amended to read:\\n17206.\\nCivil Penalty for Violation of Chapter\\n(a) Any person who engages, has engaged, or proposes to engage in unfair competition shall be liable for a civil penalty not to exceed two thousand five hundred dollars ($2,500) for each violation, which shall be assessed and recovered in a civil action brought in the name of the people of the State of California by the Attorney General, by any district attorney, by any county counsel authorized by agreement with the district attorney in actions involving violation of a county ordinance, by any city attorney of a city having a population in excess of\\n750,000,\\n250,000,\\nby any city attorney of any city and county, or, with the consent of the district attorney, by a city prosecutor in any city having a full-time city prosecutor, in any court of competent jurisdiction.\\n(b) The court shall impose a civil penalty for each violation of this chapter. In assessing the amount of the civil penalty, the court shall consider any one or more of the relevant circumstances presented by any of the parties to the case, including, but not limited to, the following: the nature and seriousness of the misconduct, the number of violations, the persistence of the misconduct, the length of time over which the misconduct occurred, the willfulness of the defendant’s misconduct, and the defendant’s assets, liabilities, and net worth.\\n(c) If the action is brought by the Attorney General, one-half of the penalty collected shall be paid to the treasurer of the county in which the judgment was entered, and one-half to the General Fund. If the action is brought by a district attorney or county counsel, the penalty collected shall be paid to the treasurer of the county in which the judgment was entered. Except as provided in subdivision (e), if the action is brought by a city attorney or city prosecutor, one-half of the penalty collected shall be paid to the treasurer of the city in which the judgment was entered, and one-half to the treasurer of the county in which the judgment was entered. The aforementioned funds shall be for the exclusive use by the Attorney General, the district attorney, the county counsel, and the city attorney for the enforcement of consumer protection laws.\\n(d) The Unfair Competition Law Fund is hereby created as a special account within the General Fund in the State Treasury. The portion of penalties that is payable to the General Fund or to the Treasurer recovered by the Attorney General from an action or settlement of a claim made by the Attorney General pursuant to this chapter or Chapter 1 (commencing with Section 17500) of Part 3 shall be deposited into this fund. Moneys in this fund, upon appropriation by the Legislature, shall be used by the Attorney General to support investigations and prosecutions of California’s consumer protection laws, including implementation of judgments obtained from such prosecutions or investigations and other activities which are in furtherance of this chapter or Chapter 1 (commencing with Section 17500) of Part 3. Notwithstanding Section 13340 of the Government Code, any civil penalties deposited in the fund pursuant to the National Mortgage Settlement, as provided in Section 12531 of the Government Code, are continuously appropriated to the Department of Justice for the purpose of offsetting General Fund costs incurred by the Department of Justice.\\n(e) If the action is brought at the request of a board within the Department of Consumer Affairs or a local consumer affairs agency, the court shall determine the reasonable expenses incurred by the board or local agency in the investigation and prosecution of the action.\\nBefore any penalty collected is paid out pursuant to subdivision (c), the amount of any reasonable expenses incurred by the board shall be paid to the Treasurer for deposit in the special fund of the board described in Section 205. If the board has no such special fund, the moneys shall be paid to the Treasurer. The amount of any reasonable expenses incurred by a local consumer affairs agency shall be paid to the general fund of the municipality or county that funds the local agency.\\n(f) If the action is brought by a city attorney of a city and county, the entire amount of the penalty collected shall be paid to the treasurer of the city and county in which the judgment was entered for the exclusive use by the city attorney for the enforcement of consumer protection laws. However, if the action is brought by a city attorney of a city and county for the purposes of civil enforcement pursuant to Section 17980 of the Health and Safety Code or Article 3 (commencing with Section 11570) of Chapter 10 of Division 10 of the Health and Safety Code, either the penalty collected shall be paid entirely to the treasurer of the city and county in which the judgment was entered or, upon the request of the city attorney, the court may order that up to one-half of the penalty, under court supervision and approval, be paid for the purpose of restoring, maintaining, or enhancing the premises that were the subject of the action, and that the balance of the penalty be paid to the treasurer of the city and county.\\nSECTION 1.\\nSection 66499.7 of the\\nGovernment Code\\nis amended to read:\\n66499.7.\\nThe security furnished by the subdivider shall be released in whole or in part in the following manner:\\n(a)Security given for faithful performance of any act or agreement shall be released upon the performance of the act or final completion and acceptance of the required work. The legislative body may provide for the partial release of the security upon the partial performance of the act or the acceptance of the work as it progresses, consistent with the provisions of this section. The security may be a surety bond, a cash deposit, a letter of credit, escrow account, or other form of performance guarantee required as security by the legislative body that meets the requirements as acceptable security pursuant to law. If the security furnished by the subdivider is a documentary evidence of security such as a surety bond or a letter of credit, the legislative body shall release the documentary evidence and return the original to the issuer upon performance of the act or final completion and acceptance of the required work. In the event that the legislative body is unable to return the original documentary evidence to the issuer, the security shall be released by written notice sent by certified mail to the subdivider and issuer of the documentary evidence within 30 days of the acceptance of the work. The written notice shall contain a statement that the work for which the security was furnished has been performed or completed and accepted by the legislative body, a description of the project subject to the documentary evidence and the notarized signature of the authorized representative of the legislative body.\\n(b)At the time that the subdivider believes that the obligation to perform the work for which security was required is complete, the subdivider may notify the local agency in writing of the completed work, including a list of work completed. Upon receipt of the written notice, the local agency shall have 45 days to review and comment or approve the completion of the required work. If the local agency does not agree that all work has been completed in accordance with the plans and specifications for the improvements, it shall supply a list of all remaining work to be completed.\\n(c)Within 45 days of receipt of the list of remaining work from the local agency, the subdivider may then provide cost estimates for all remaining work for review and approval by the local agency. Upon receipt of the cost estimates, the local agency shall then have 45 days to review, comment, and approve, modify, or disapprove those cost estimates. No local agency shall be required to engage in this process of partial release more than once between the start of work and completion and acceptance of all work; however, nothing in this section prohibits a local agency from allowing for a partial release as it otherwise deems appropriate.\\n(d)If the local agency approves the cost estimate, the local agency shall release all performance security except for security in an amount up to 200 percent of the cost estimate of the remaining work. The process allowing for a partial release of performance security shall occur when the cost estimate of the remaining work does not exceed 20 percent of the total original performance security unless the local agency allows for a release at an earlier time. Substitute bonds or other security may be used as a replacement for the performance security, subject to the approval of the local agency. If substitute bonds or other security is used as a replacement for the performance security released, the release shall not be effective unless and until the local agency receives and approves that form of replacement security. A reduction in the performance security, authorized under this section, is not, and shall not be deemed to be, an acceptance by the local agency of the completed improvements, and the risk of loss or damage to the improvements and the obligation to maintain the improvements shall remain the sole responsibility of the subdivider until all required public improvements have been accepted by the local agency and all other required improvements have been fully completed in accordance with the plans and specifications for the improvements.\\n(e)The subdivider shall complete the works of improvement until all remaining items are accepted by the local agency.\\n(f)Upon the completion of the improvements, the subdivider, or his or her assigns, shall be notified in writing by the local agency within 45 days.\\n(g)Within 45 days of the issuance of the notification by the local agency, the release of any remaining performance security shall be placed upon the agenda of the legislative body of the local agency for approval of the release of any remaining performance security. If the local agency delegates authority for the release of performance security to a public official or other employee, any remaining performance security shall be released within 60 days of the issuance of the written statement of completion.\\n(h)Security securing the payment to the contractor, his or her subcontractors and to persons furnishing labor, materials or equipment shall, after passage of the time within which claims of lien are required to be recorded pursuant to Article 2 (commencing with Section 8410) of Chapter 4 of Title 2 of Part 6 of Division 4 of the Civil Code and after acceptance of the work, be reduced to an amount equal to the total claimed by all claimants for whom claims of lien have been recorded and notice thereof given in writing to the legislative body, and if no claims have been recorded, the security shall be released in full.\\n(i)The release shall not apply to any required guarantee and warranty period required by Section 66499.9 for the guarantee or warranty nor to the amount of the security deemed necessary by the local agency for the guarantee and warranty period nor to costs and reasonable expenses and fees, including reasonable attorney’s fees.\\n(j)The legislative body may authorize any of its public officers or employees to authorize release or reduction of the security in accordance with the conditions hereinabove set forth and in accordance with any rules that it may prescribe.\\nSEC. 2.\\nIf the Commission on State Mandates determines that this act contains costs mandated by the state, reimbursement to local agencies and school districts for those costs shall be made pursuant to Part 7 (commencing with Section 17500) of Division 4 of Title 2 of the Government Code.',\n",
       " 'summary': 'Existing law defines unfair competition to include an unlawful, unfair, or fraudulent business act or practice, unfair, deceptive, untrue, or misleading advertising, and any false representations to the public. Existing law, as amended by Proposition 64 at the November 2, 2004, statewide general election, authorizes an action for relief from this prohibited conduct to be brought by, among others, a person who has suffered injury in fact and has lost money or property as a result of the unfair competition. Existing law also authorizes an action for relief from this prohibited conduct and for civil penalties to be brought by a city attorney of a city having a population in excess of 750,000.\\nThis bill would expand this authorization to allow actions for relief and civil penalties by city attorneys of cities having a population in excess of 250,000, as provided.\\nThe Subdivision Map Act and local ordinances authorize or require, under specified circumstances, the furnishing of specified types of security with respect to the performance of various acts or agreements subject to the act. Existing law, until January 1, 2016, also sets forth the specific procedures imposed on a local agency for the complete or partial release of a performance security furnished by a subdivider.\\nThis bill would delete the repeal of the provisions relating to the procedures for releasing a performance security, thereby extending the operation of these provisions indefinitely and imposing a state-mandated local program.\\nThe California Constitution requires the state to reimburse local agencies and school districts for certain costs mandated by the state. Statutory provisions establish procedures for making that reimbursement.\\nThis bill would provide that, if the Commission on State Mandates determines that the bill contains costs mandated by the state, reimbursement for those costs shall be made pursuant to these statutory provisions.',\n",
       " 'title': 'An act to amend Section 66499.7 of the Government Code, relating to subdivided lands.\\nAn act to amend Sections 17204 and 17206 of the Business and Professions Code, relating to unfair competition.'}"
      ]
     },
     "execution_count": 4,
     "metadata": {},
     "output_type": "execute_result"
    }
   ],
   "source": [
    "billsum[\"train\"][0]"
   ]
  },
  {
   "cell_type": "code",
   "execution_count": 6,
   "id": "86b35805",
   "metadata": {},
   "outputs": [
    {
     "name": "stdout",
     "output_type": "stream",
     "text": [
      "The people of the State of California do enact as follows:\n",
      "\n",
      "\n",
      "SECTION 1.\n",
      "Section 17204 of the Business and Professions Code is amended to read:\n",
      "17204.\n",
      "Actions for Injunctions by Attorney General, District Attorney, County Counsel, and City Attorneys\n",
      "Actions for relief pursuant to this chapter shall be prosecuted exclusively in a court of competent jurisdiction by the Attorney General or a district attorney or by a county counsel authorized by agreement with the district attorney in actions involving violation of a county ordinance, or by a city attorney of a city having a population in excess of\n",
      "750,000,\n",
      "250,000,\n",
      "or by a city attorney in a city and county or, with the consent of the district attorney, by a city prosecutor in a city having a full-time city prosecutor in the name of the people of the State of California upon their own complaint or upon the complaint of a board, officer, person, corporation, or association, or by a person who has suffered injury in fact and has lost money or property as a result of the unfair competition.\n",
      "SEC. 2.\n",
      "Section 17206 of the Business and Professions Code is amended to read:\n",
      "17206.\n",
      "Civil Penalty for Violation of Chapter\n",
      "(a) Any person who engages, has engaged, or proposes to engage in unfair competition shall be liable for a civil penalty not to exceed two thousand five hundred dollars ($2,500) for each violation, which shall be assessed and recovered in a civil action brought in the name of the people of the State of California by the Attorney General, by any district attorney, by any county counsel authorized by agreement with the district attorney in actions involving violation of a county ordinance, by any city attorney of a city having a population in excess of\n",
      "750,000,\n",
      "250,000,\n",
      "by any city attorney of any city and county, or, with the consent of the district attorney, by a city prosecutor in any city having a full-time city prosecutor, in any court of competent jurisdiction.\n",
      "(b) The court shall impose a civil penalty for each violation of this chapter. In assessing the amount of the civil penalty, the court shall consider any one or more of the relevant circumstances presented by any of the parties to the case, including, but not limited to, the following: the nature and seriousness of the misconduct, the number of violations, the persistence of the misconduct, the length of time over which the misconduct occurred, the willfulness of the defendant’s misconduct, and the defendant’s assets, liabilities, and net worth.\n",
      "(c) If the action is brought by the Attorney General, one-half of the penalty collected shall be paid to the treasurer of the county in which the judgment was entered, and one-half to the General Fund. If the action is brought by a district attorney or county counsel, the penalty collected shall be paid to the treasurer of the county in which the judgment was entered. Except as provided in subdivision (e), if the action is brought by a city attorney or city prosecutor, one-half of the penalty collected shall be paid to the treasurer of the city in which the judgment was entered, and one-half to the treasurer of the county in which the judgment was entered. The aforementioned funds shall be for the exclusive use by the Attorney General, the district attorney, the county counsel, and the city attorney for the enforcement of consumer protection laws.\n",
      "(d) The Unfair Competition Law Fund is hereby created as a special account within the General Fund in the State Treasury. The portion of penalties that is payable to the General Fund or to the Treasurer recovered by the Attorney General from an action or settlement of a claim made by the Attorney General pursuant to this chapter or Chapter 1 (commencing with Section 17500) of Part 3 shall be deposited into this fund. Moneys in this fund, upon appropriation by the Legislature, shall be used by the Attorney General to support investigations and prosecutions of California’s consumer protection laws, including implementation of judgments obtained from such prosecutions or investigations and other activities which are in furtherance of this chapter or Chapter 1 (commencing with Section 17500) of Part 3. Notwithstanding Section 13340 of the Government Code, any civil penalties deposited in the fund pursuant to the National Mortgage Settlement, as provided in Section 12531 of the Government Code, are continuously appropriated to the Department of Justice for the purpose of offsetting General Fund costs incurred by the Department of Justice.\n",
      "(e) If the action is brought at the request of a board within the Department of Consumer Affairs or a local consumer affairs agency, the court shall determine the reasonable expenses incurred by the board or local agency in the investigation and prosecution of the action.\n",
      "Before any penalty collected is paid out pursuant to subdivision (c), the amount of any reasonable expenses incurred by the board shall be paid to the Treasurer for deposit in the special fund of the board described in Section 205. If the board has no such special fund, the moneys shall be paid to the Treasurer. The amount of any reasonable expenses incurred by a local consumer affairs agency shall be paid to the general fund of the municipality or county that funds the local agency.\n",
      "(f) If the action is brought by a city attorney of a city and county, the entire amount of the penalty collected shall be paid to the treasurer of the city and county in which the judgment was entered for the exclusive use by the city attorney for the enforcement of consumer protection laws. However, if the action is brought by a city attorney of a city and county for the purposes of civil enforcement pursuant to Section 17980 of the Health and Safety Code or Article 3 (commencing with Section 11570) of Chapter 10 of Division 10 of the Health and Safety Code, either the penalty collected shall be paid entirely to the treasurer of the city and county in which the judgment was entered or, upon the request of the city attorney, the court may order that up to one-half of the penalty, under court supervision and approval, be paid for the purpose of restoring, maintaining, or enhancing the premises that were the subject of the action, and that the balance of the penalty be paid to the treasurer of the city and county.\n",
      "SECTION 1.\n",
      "Section 66499.7 of the\n",
      "Government Code\n",
      "is amended to read:\n",
      "66499.7.\n",
      "The security furnished by the subdivider shall be released in whole or in part in the following manner:\n",
      "(a)Security given for faithful performance of any act or agreement shall be released upon the performance of the act or final completion and acceptance of the required work. The legislative body may provide for the partial release of the security upon the partial performance of the act or the acceptance of the work as it progresses, consistent with the provisions of this section. The security may be a surety bond, a cash deposit, a letter of credit, escrow account, or other form of performance guarantee required as security by the legislative body that meets the requirements as acceptable security pursuant to law. If the security furnished by the subdivider is a documentary evidence of security such as a surety bond or a letter of credit, the legislative body shall release the documentary evidence and return the original to the issuer upon performance of the act or final completion and acceptance of the required work. In the event that the legislative body is unable to return the original documentary evidence to the issuer, the security shall be released by written notice sent by certified mail to the subdivider and issuer of the documentary evidence within 30 days of the acceptance of the work. The written notice shall contain a statement that the work for which the security was furnished has been performed or completed and accepted by the legislative body, a description of the project subject to the documentary evidence and the notarized signature of the authorized representative of the legislative body.\n",
      "(b)At the time that the subdivider believes that the obligation to perform the work for which security was required is complete, the subdivider may notify the local agency in writing of the completed work, including a list of work completed. Upon receipt of the written notice, the local agency shall have 45 days to review and comment or approve the completion of the required work. If the local agency does not agree that all work has been completed in accordance with the plans and specifications for the improvements, it shall supply a list of all remaining work to be completed.\n",
      "(c)Within 45 days of receipt of the list of remaining work from the local agency, the subdivider may then provide cost estimates for all remaining work for review and approval by the local agency. Upon receipt of the cost estimates, the local agency shall then have 45 days to review, comment, and approve, modify, or disapprove those cost estimates. No local agency shall be required to engage in this process of partial release more than once between the start of work and completion and acceptance of all work; however, nothing in this section prohibits a local agency from allowing for a partial release as it otherwise deems appropriate.\n",
      "(d)If the local agency approves the cost estimate, the local agency shall release all performance security except for security in an amount up to 200 percent of the cost estimate of the remaining work. The process allowing for a partial release of performance security shall occur when the cost estimate of the remaining work does not exceed 20 percent of the total original performance security unless the local agency allows for a release at an earlier time. Substitute bonds or other security may be used as a replacement for the performance security, subject to the approval of the local agency. If substitute bonds or other security is used as a replacement for the performance security released, the release shall not be effective unless and until the local agency receives and approves that form of replacement security. A reduction in the performance security, authorized under this section, is not, and shall not be deemed to be, an acceptance by the local agency of the completed improvements, and the risk of loss or damage to the improvements and the obligation to maintain the improvements shall remain the sole responsibility of the subdivider until all required public improvements have been accepted by the local agency and all other required improvements have been fully completed in accordance with the plans and specifications for the improvements.\n",
      "(e)The subdivider shall complete the works of improvement until all remaining items are accepted by the local agency.\n",
      "(f)Upon the completion of the improvements, the subdivider, or his or her assigns, shall be notified in writing by the local agency within 45 days.\n",
      "(g)Within 45 days of the issuance of the notification by the local agency, the release of any remaining performance security shall be placed upon the agenda of the legislative body of the local agency for approval of the release of any remaining performance security. If the local agency delegates authority for the release of performance security to a public official or other employee, any remaining performance security shall be released within 60 days of the issuance of the written statement of completion.\n",
      "(h)Security securing the payment to the contractor, his or her subcontractors and to persons furnishing labor, materials or equipment shall, after passage of the time within which claims of lien are required to be recorded pursuant to Article 2 (commencing with Section 8410) of Chapter 4 of Title 2 of Part 6 of Division 4 of the Civil Code and after acceptance of the work, be reduced to an amount equal to the total claimed by all claimants for whom claims of lien have been recorded and notice thereof given in writing to the legislative body, and if no claims have been recorded, the security shall be released in full.\n",
      "(i)The release shall not apply to any required guarantee and warranty period required by Section 66499.9 for the guarantee or warranty nor to the amount of the security deemed necessary by the local agency for the guarantee and warranty period nor to costs and reasonable expenses and fees, including reasonable attorney’s fees.\n",
      "(j)The legislative body may authorize any of its public officers or employees to authorize release or reduction of the security in accordance with the conditions hereinabove set forth and in accordance with any rules that it may prescribe.\n",
      "SEC. 2.\n",
      "If the Commission on State Mandates determines that this act contains costs mandated by the state, reimbursement to local agencies and school districts for those costs shall be made pursuant to Part 7 (commencing with Section 17500) of Division 4 of Title 2 of the Government Code.\n"
     ]
    }
   ],
   "source": [
    "print(billsum[\"train\"][0]['text'])"
   ]
  },
  {
   "cell_type": "code",
   "execution_count": 7,
   "id": "59397c5c",
   "metadata": {},
   "outputs": [
    {
     "name": "stdout",
     "output_type": "stream",
     "text": [
      "Existing law defines unfair competition to include an unlawful, unfair, or fraudulent business act or practice, unfair, deceptive, untrue, or misleading advertising, and any false representations to the public. Existing law, as amended by Proposition 64 at the November 2, 2004, statewide general election, authorizes an action for relief from this prohibited conduct to be brought by, among others, a person who has suffered injury in fact and has lost money or property as a result of the unfair competition. Existing law also authorizes an action for relief from this prohibited conduct and for civil penalties to be brought by a city attorney of a city having a population in excess of 750,000.\n",
      "This bill would expand this authorization to allow actions for relief and civil penalties by city attorneys of cities having a population in excess of 250,000, as provided.\n",
      "The Subdivision Map Act and local ordinances authorize or require, under specified circumstances, the furnishing of specified types of security with respect to the performance of various acts or agreements subject to the act. Existing law, until January 1, 2016, also sets forth the specific procedures imposed on a local agency for the complete or partial release of a performance security furnished by a subdivider.\n",
      "This bill would delete the repeal of the provisions relating to the procedures for releasing a performance security, thereby extending the operation of these provisions indefinitely and imposing a state-mandated local program.\n",
      "The California Constitution requires the state to reimburse local agencies and school districts for certain costs mandated by the state. Statutory provisions establish procedures for making that reimbursement.\n",
      "This bill would provide that, if the Commission on State Mandates determines that the bill contains costs mandated by the state, reimbursement for those costs shall be made pursuant to these statutory provisions.\n"
     ]
    }
   ],
   "source": [
    "print(billsum[\"train\"][0]['summary'])"
   ]
  },
  {
   "cell_type": "markdown",
   "id": "c1d27516",
   "metadata": {},
   "source": [
    "#### Load the model from the Hugging Face Hub"
   ]
  },
  {
   "cell_type": "code",
   "execution_count": 8,
   "id": "3805d0c9",
   "metadata": {},
   "outputs": [],
   "source": [
    "from transformers import AutoTokenizer\n",
    "\n",
    "checkpoint = \"google-t5/t5-small\"\n",
    "tokenizer = AutoTokenizer.from_pretrained(checkpoint)"
   ]
  },
  {
   "cell_type": "markdown",
   "id": "3ee032eb",
   "metadata": {},
   "source": [
    "#### Prepare the model training inputs"
   ]
  },
  {
   "cell_type": "code",
   "execution_count": 9,
   "id": "c676c6b6",
   "metadata": {},
   "outputs": [],
   "source": [
    "prefix = \"summarize: \"\n",
    "\n",
    "\n",
    "def preprocess_function(examples):\n",
    "    inputs = [prefix + doc for doc in examples[\"text\"]]\n",
    "    model_inputs = tokenizer(inputs, max_length=1024, truncation=True)\n",
    "\n",
    "    labels = tokenizer(text_target=examples[\"summary\"], max_length=128, truncation=True)\n",
    "\n",
    "    model_inputs[\"labels\"] = labels[\"input_ids\"]\n",
    "    return model_inputs"
   ]
  },
  {
   "cell_type": "code",
   "execution_count": 10,
   "id": "f7bbc124",
   "metadata": {},
   "outputs": [
    {
     "name": "stderr",
     "output_type": "stream",
     "text": [
      "Map: 100%|██████████| 989/989 [00:01<00:00, 580.12 examples/s]\n",
      "Map: 100%|██████████| 248/248 [00:00<00:00, 686.37 examples/s]\n"
     ]
    }
   ],
   "source": [
    "tokenized_billsum = billsum.map(preprocess_function, batched=True)"
   ]
  },
  {
   "cell_type": "markdown",
   "id": "eebb23f8",
   "metadata": {},
   "source": [
    "#### Data collator makses sure that the inputs are of the same size"
   ]
  },
  {
   "cell_type": "code",
   "execution_count": 11,
   "id": "06bd37ee",
   "metadata": {},
   "outputs": [],
   "source": [
    "from transformers import DataCollatorForSeq2Seq\n",
    "\n",
    "data_collator = DataCollatorForSeq2Seq(tokenizer=tokenizer, model=checkpoint)"
   ]
  },
  {
   "cell_type": "markdown",
   "id": "9972be4b",
   "metadata": {},
   "source": [
    "#### Evalulation metrics"
   ]
  },
  {
   "cell_type": "code",
   "execution_count": 12,
   "id": "97a1d568",
   "metadata": {},
   "outputs": [],
   "source": [
    "import evaluate\n",
    "\n",
    "rouge = evaluate.load(\"rouge\")"
   ]
  },
  {
   "cell_type": "code",
   "execution_count": 13,
   "id": "d18ed7db",
   "metadata": {},
   "outputs": [],
   "source": [
    "import numpy as np\n",
    "\n",
    "\n",
    "def compute_metrics(eval_pred):\n",
    "    predictions, labels = eval_pred\n",
    "    decoded_preds = tokenizer.batch_decode(predictions, skip_special_tokens=True)\n",
    "    labels = np.where(labels != -100, labels, tokenizer.pad_token_id)\n",
    "    decoded_labels = tokenizer.batch_decode(labels, skip_special_tokens=True)\n",
    "\n",
    "    result = rouge.compute(predictions=decoded_preds, references=decoded_labels, use_stemmer=True)\n",
    "\n",
    "    prediction_lens = [np.count_nonzero(pred != tokenizer.pad_token_id) for pred in predictions]\n",
    "    result[\"gen_len\"] = np.mean(prediction_lens)\n",
    "\n",
    "    return {k: round(v, 4) for k, v in result.items()}"
   ]
  },
  {
   "cell_type": "markdown",
   "id": "dfd70a8f",
   "metadata": {},
   "source": [
    "### Train the model"
   ]
  },
  {
   "cell_type": "code",
   "execution_count": 14,
   "id": "07296b7e",
   "metadata": {},
   "outputs": [],
   "source": [
    "from transformers import AutoModelForSeq2SeqLM, Seq2SeqTrainingArguments, Seq2SeqTrainer\n",
    "\n",
    "model = AutoModelForSeq2SeqLM.from_pretrained(checkpoint)"
   ]
  },
  {
   "cell_type": "code",
   "execution_count": 15,
   "id": "410dcc17",
   "metadata": {},
   "outputs": [
    {
     "name": "stderr",
     "output_type": "stream",
     "text": [
      "Passing a tuple of `past_key_values` is deprecated and will be removed in Transformers v4.48.0. You should pass an instance of `EncoderDecoderCache` instead, e.g. `past_key_values=EncoderDecoderCache.from_legacy_cache(past_key_values)`.\n"
     ]
    },
    {
     "data": {
      "text/html": [
       "\n",
       "    <div>\n",
       "      \n",
       "      <progress value='1240' max='1240' style='width:300px; height:20px; vertical-align: middle;'></progress>\n",
       "      [1240/1240 03:13, Epoch 20/20]\n",
       "    </div>\n",
       "    <table border=\"1\" class=\"dataframe\">\n",
       "  <thead>\n",
       " <tr style=\"text-align: left;\">\n",
       "      <th>Epoch</th>\n",
       "      <th>Training Loss</th>\n",
       "      <th>Validation Loss</th>\n",
       "      <th>Rouge1</th>\n",
       "      <th>Rouge2</th>\n",
       "      <th>Rougel</th>\n",
       "      <th>Rougelsum</th>\n",
       "      <th>Gen Len</th>\n",
       "    </tr>\n",
       "  </thead>\n",
       "  <tbody>\n",
       "    <tr>\n",
       "      <td>1</td>\n",
       "      <td>No log</td>\n",
       "      <td>2.775260</td>\n",
       "      <td>0.133700</td>\n",
       "      <td>0.043400</td>\n",
       "      <td>0.113100</td>\n",
       "      <td>0.113100</td>\n",
       "      <td>20.000000</td>\n",
       "    </tr>\n",
       "    <tr>\n",
       "      <td>2</td>\n",
       "      <td>No log</td>\n",
       "      <td>2.554997</td>\n",
       "      <td>0.144100</td>\n",
       "      <td>0.052700</td>\n",
       "      <td>0.119600</td>\n",
       "      <td>0.119500</td>\n",
       "      <td>20.000000</td>\n",
       "    </tr>\n",
       "    <tr>\n",
       "      <td>3</td>\n",
       "      <td>No log</td>\n",
       "      <td>2.461733</td>\n",
       "      <td>0.169100</td>\n",
       "      <td>0.068200</td>\n",
       "      <td>0.140000</td>\n",
       "      <td>0.139500</td>\n",
       "      <td>20.000000</td>\n",
       "    </tr>\n",
       "    <tr>\n",
       "      <td>4</td>\n",
       "      <td>No log</td>\n",
       "      <td>2.411007</td>\n",
       "      <td>0.196000</td>\n",
       "      <td>0.093200</td>\n",
       "      <td>0.164000</td>\n",
       "      <td>0.163800</td>\n",
       "      <td>20.000000</td>\n",
       "    </tr>\n",
       "    <tr>\n",
       "      <td>5</td>\n",
       "      <td>No log</td>\n",
       "      <td>2.372820</td>\n",
       "      <td>0.201400</td>\n",
       "      <td>0.097800</td>\n",
       "      <td>0.168500</td>\n",
       "      <td>0.168000</td>\n",
       "      <td>20.000000</td>\n",
       "    </tr>\n",
       "    <tr>\n",
       "      <td>6</td>\n",
       "      <td>No log</td>\n",
       "      <td>2.347858</td>\n",
       "      <td>0.200100</td>\n",
       "      <td>0.095800</td>\n",
       "      <td>0.167500</td>\n",
       "      <td>0.167100</td>\n",
       "      <td>20.000000</td>\n",
       "    </tr>\n",
       "    <tr>\n",
       "      <td>7</td>\n",
       "      <td>No log</td>\n",
       "      <td>2.323982</td>\n",
       "      <td>0.202400</td>\n",
       "      <td>0.098700</td>\n",
       "      <td>0.169500</td>\n",
       "      <td>0.169100</td>\n",
       "      <td>20.000000</td>\n",
       "    </tr>\n",
       "    <tr>\n",
       "      <td>8</td>\n",
       "      <td>No log</td>\n",
       "      <td>2.306109</td>\n",
       "      <td>0.202600</td>\n",
       "      <td>0.098100</td>\n",
       "      <td>0.169300</td>\n",
       "      <td>0.168800</td>\n",
       "      <td>20.000000</td>\n",
       "    </tr>\n",
       "    <tr>\n",
       "      <td>9</td>\n",
       "      <td>2.718500</td>\n",
       "      <td>2.292192</td>\n",
       "      <td>0.202700</td>\n",
       "      <td>0.098800</td>\n",
       "      <td>0.169200</td>\n",
       "      <td>0.168900</td>\n",
       "      <td>20.000000</td>\n",
       "    </tr>\n",
       "    <tr>\n",
       "      <td>10</td>\n",
       "      <td>2.718500</td>\n",
       "      <td>2.278517</td>\n",
       "      <td>0.203000</td>\n",
       "      <td>0.099000</td>\n",
       "      <td>0.170800</td>\n",
       "      <td>0.170400</td>\n",
       "      <td>20.000000</td>\n",
       "    </tr>\n",
       "    <tr>\n",
       "      <td>11</td>\n",
       "      <td>2.718500</td>\n",
       "      <td>2.268845</td>\n",
       "      <td>0.202400</td>\n",
       "      <td>0.099600</td>\n",
       "      <td>0.170400</td>\n",
       "      <td>0.170200</td>\n",
       "      <td>20.000000</td>\n",
       "    </tr>\n",
       "    <tr>\n",
       "      <td>12</td>\n",
       "      <td>2.718500</td>\n",
       "      <td>2.261112</td>\n",
       "      <td>0.201600</td>\n",
       "      <td>0.098900</td>\n",
       "      <td>0.170000</td>\n",
       "      <td>0.169700</td>\n",
       "      <td>20.000000</td>\n",
       "    </tr>\n",
       "    <tr>\n",
       "      <td>13</td>\n",
       "      <td>2.718500</td>\n",
       "      <td>2.253465</td>\n",
       "      <td>0.202400</td>\n",
       "      <td>0.099500</td>\n",
       "      <td>0.170300</td>\n",
       "      <td>0.170000</td>\n",
       "      <td>20.000000</td>\n",
       "    </tr>\n",
       "    <tr>\n",
       "      <td>14</td>\n",
       "      <td>2.718500</td>\n",
       "      <td>2.248691</td>\n",
       "      <td>0.202200</td>\n",
       "      <td>0.098900</td>\n",
       "      <td>0.170300</td>\n",
       "      <td>0.170000</td>\n",
       "      <td>20.000000</td>\n",
       "    </tr>\n",
       "    <tr>\n",
       "      <td>15</td>\n",
       "      <td>2.718500</td>\n",
       "      <td>2.243720</td>\n",
       "      <td>0.202100</td>\n",
       "      <td>0.099300</td>\n",
       "      <td>0.170200</td>\n",
       "      <td>0.170000</td>\n",
       "      <td>20.000000</td>\n",
       "    </tr>\n",
       "    <tr>\n",
       "      <td>16</td>\n",
       "      <td>2.718500</td>\n",
       "      <td>2.240574</td>\n",
       "      <td>0.202000</td>\n",
       "      <td>0.098900</td>\n",
       "      <td>0.170000</td>\n",
       "      <td>0.169800</td>\n",
       "      <td>20.000000</td>\n",
       "    </tr>\n",
       "    <tr>\n",
       "      <td>17</td>\n",
       "      <td>2.380900</td>\n",
       "      <td>2.237047</td>\n",
       "      <td>0.201600</td>\n",
       "      <td>0.098400</td>\n",
       "      <td>0.170000</td>\n",
       "      <td>0.169800</td>\n",
       "      <td>20.000000</td>\n",
       "    </tr>\n",
       "    <tr>\n",
       "      <td>18</td>\n",
       "      <td>2.380900</td>\n",
       "      <td>2.235099</td>\n",
       "      <td>0.202100</td>\n",
       "      <td>0.098700</td>\n",
       "      <td>0.170300</td>\n",
       "      <td>0.170200</td>\n",
       "      <td>20.000000</td>\n",
       "    </tr>\n",
       "    <tr>\n",
       "      <td>19</td>\n",
       "      <td>2.380900</td>\n",
       "      <td>2.233822</td>\n",
       "      <td>0.203100</td>\n",
       "      <td>0.099700</td>\n",
       "      <td>0.171000</td>\n",
       "      <td>0.170900</td>\n",
       "      <td>20.000000</td>\n",
       "    </tr>\n",
       "    <tr>\n",
       "      <td>20</td>\n",
       "      <td>2.380900</td>\n",
       "      <td>2.233491</td>\n",
       "      <td>0.203100</td>\n",
       "      <td>0.099700</td>\n",
       "      <td>0.171000</td>\n",
       "      <td>0.170900</td>\n",
       "      <td>20.000000</td>\n",
       "    </tr>\n",
       "  </tbody>\n",
       "</table><p>"
      ],
      "text/plain": [
       "<IPython.core.display.HTML object>"
      ]
     },
     "metadata": {},
     "output_type": "display_data"
    },
    {
     "data": {
      "text/plain": [
       "TrainOutput(global_step=1240, training_loss=2.5090435889459424, metrics={'train_runtime': 194.4302, 'train_samples_per_second': 101.733, 'train_steps_per_second': 6.378, 'total_flos': 5354121666232320.0, 'train_loss': 2.5090435889459424, 'epoch': 20.0})"
      ]
     },
     "execution_count": 15,
     "metadata": {},
     "output_type": "execute_result"
    }
   ],
   "source": [
    "training_args = Seq2SeqTrainingArguments(\n",
    "    output_dir=\"my_awesome_billsum_model\",\n",
    "    eval_strategy=\"epoch\",\n",
    "    learning_rate=2e-5,\n",
    "    per_device_train_batch_size=16,\n",
    "    per_device_eval_batch_size=16,\n",
    "    weight_decay=0.01,\n",
    "    save_total_limit=3,\n",
    "    num_train_epochs=20,\n",
    "    predict_with_generate=True,\n",
    "    fp16=True, #change to bf16=True for XPU\n",
    "    # push_to_hub=True,\n",
    ")\n",
    "\n",
    "trainer = Seq2SeqTrainer(\n",
    "    model=model,\n",
    "    args=training_args,\n",
    "    train_dataset=tokenized_billsum[\"train\"],\n",
    "    eval_dataset=tokenized_billsum[\"test\"],\n",
    "    processing_class=tokenizer,\n",
    "    data_collator=data_collator,\n",
    "    compute_metrics=compute_metrics,\n",
    ")\n",
    "\n",
    "trainer.train()"
   ]
  },
  {
   "cell_type": "markdown",
   "id": "c7c4fcbc",
   "metadata": {},
   "source": [
    "### Save the model and tokenizer"
   ]
  },
  {
   "cell_type": "code",
   "execution_count": 16,
   "id": "13754297",
   "metadata": {},
   "outputs": [
    {
     "data": {
      "text/plain": [
       "('./fine_tuned_model/tokenizer_config.json',\n",
       " './fine_tuned_model/special_tokens_map.json',\n",
       " './fine_tuned_model/spiece.model',\n",
       " './fine_tuned_model/added_tokens.json',\n",
       " './fine_tuned_model/tokenizer.json')"
      ]
     },
     "execution_count": 16,
     "metadata": {},
     "output_type": "execute_result"
    }
   ],
   "source": [
    "# Save the model and tokenizer\n",
    "model.save_pretrained(\"./fine_tuned_model\")\n",
    "tokenizer.save_pretrained(\"./fine_tuned_model\")\n"
   ]
  },
  {
   "cell_type": "markdown",
   "id": "8e646ce8",
   "metadata": {},
   "source": [
    "#### Inference with the fine-tuned model"
   ]
  },
  {
   "cell_type": "code",
   "execution_count": 17,
   "id": "a99bdfbd",
   "metadata": {},
   "outputs": [],
   "source": [
    "text = \"\"\"summarize: Artificial intelligence is transforming financial investment decision-making\n",
    "frameworks, with deep reinforcement learning demonstrating substantial\n",
    "potential in robo-advisory applications. This paper addresses the limitations\n",
    "of traditional portfolio optimization methods in dynamic asset weight\n",
    "adjustment through the development of a deep reinforcement learning-based\n",
    "dynamic optimization model grounded in practical trading processes. The\n",
    "research advances two key innovations: first, the introduction of a novel\n",
    "Sharpe ratio reward function engineered for Actor-Critic deep reinforcement\n",
    "learning algorithms, which ensures stable convergence during training while\n",
    "consistently achieving positive average Sharpe ratios; second, the development\n",
    "of an innovative comprehensive approach to portfolio optimization utilizing\n",
    "deep reinforcement learning, which significantly enhances model optimization\n",
    "capability through the integration of random sampling strategies during\n",
    "training with image-based deep neural network architectures for\n",
    "multi-dimensional financial time series data processing, average Sharpe ratio\n",
    "reward functions, and deep reinforcement learning algorithms. The empirical\n",
    "analysis validates the model using randomly selected constituent stocks from\n",
    "the CSI 300 Index, benchmarking against established financial econometric\n",
    "optimization models. Backtesting results demonstrate the model's efficacy in\n",
    "optimizing portfolio allocation and mitigating investment risk, yielding\n",
    "superior comprehensive performance metrics.\"\"\""
   ]
  },
  {
   "cell_type": "code",
   "execution_count": 18,
   "id": "6ad8c83c",
   "metadata": {},
   "outputs": [],
   "source": [
    "model = AutoModelForSeq2SeqLM.from_pretrained(\"./fine_tuned_model\")\n",
    "tokenizer = AutoTokenizer.from_pretrained(\"./fine_tuned_model\")\n",
    "inputs = tokenizer(text, return_tensors=\"pt\").input_ids\n"
   ]
  },
  {
   "cell_type": "code",
   "execution_count": 19,
   "id": "8da097c0",
   "metadata": {},
   "outputs": [
    {
     "data": {
      "text/plain": [
       "tensor([    0,     3,     9,   126, 22130,    15,  5688,  9676,  1681,  1948,\n",
       "         3737,    21,  1983,   127,    18,   254, 13224,    75,  1659, 28050,\n",
       "         1036, 16783,     6,    84,   766,     7,  5711, 31098,   383,   761,\n",
       "          298,  8182,     3,  9582,  1465,  1348, 22130,    15,  5688,     7,\n",
       "            6,    11,  1659, 28050,  1036, 16783,     5,   100,  1040,  7181,\n",
       "            8, 10005,    13,  1435,  4833, 11295,  2254,    16,  4896,  7000,\n",
       "         1293, 13592,   190,     8,   606,    13,     3,     9,  3714, 22130,\n",
       "           15,  5688,  9676,  1681,  1948,  3737,    21,  1983,   127,    18,\n",
       "          254, 13224,    75,  1659, 28050,  1036, 16783,     6,    84,   766,\n",
       "            7,  5711, 31098,   383,   761,   298,  8182,     3,  9582,  1465,\n",
       "         1348])"
      ]
     },
     "execution_count": 19,
     "metadata": {},
     "output_type": "execute_result"
    }
   ],
   "source": [
    "outputs = model.generate(inputs, max_new_tokens=100, do_sample=False)\n",
    "outputs[0]"
   ]
  },
  {
   "cell_type": "code",
   "execution_count": 20,
   "id": "d0fe6978",
   "metadata": {},
   "outputs": [
    {
     "data": {
      "text/plain": [
       "'a new Sharpe ratio reward function engineered for Actor-Critic deep reinforcement learning algorithms, which ensures stable convergence during training while consistently achieving positive average Sharpe ratios, and deep reinforcement learning algorithms. This paper addresses the limitations of traditional portfolio optimization methods in dynamic asset weight adjustment through the development of a novel Sharpe ratio reward function engineered for Actor-Critic deep reinforcement learning algorithms, which ensures stable convergence during training while consistently achieving positive average'"
      ]
     },
     "execution_count": 20,
     "metadata": {},
     "output_type": "execute_result"
    }
   ],
   "source": [
    "tokenizer.decode(outputs[0], skip_special_tokens=True)"
   ]
  }
 ],
 "metadata": {
  "kernelspec": {
   "display_name": ".venv",
   "language": "python",
   "name": "python3"
  },
  "language_info": {
   "codemirror_mode": {
    "name": "ipython",
    "version": 3
   },
   "file_extension": ".py",
   "mimetype": "text/x-python",
   "name": "python",
   "nbconvert_exporter": "python",
   "pygments_lexer": "ipython3",
   "version": "3.10.12"
  }
 },
 "nbformat": 4,
 "nbformat_minor": 5
}
