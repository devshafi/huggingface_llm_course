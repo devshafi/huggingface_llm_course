{
 "cells": [
  {
   "cell_type": "code",
   "execution_count": 4,
   "id": "b3dea86e",
   "metadata": {},
   "outputs": [],
   "source": [
    "#load the dataset\n",
    "\n",
    "data_dir = \"/home/jovyan/Works/Practice/dataset/drugscom/drug-reviews\"\n",
    "\n",
    "from datasets import load_from_disk\n",
    "\n",
    "drug_review_dataset = load_from_disk(data_dir)"
   ]
  },
  {
   "cell_type": "code",
   "execution_count": 5,
   "id": "ce2797d3",
   "metadata": {},
   "outputs": [
    {
     "data": {
      "text/plain": [
       "DatasetDict({\n",
       "    train: Dataset({\n",
       "        features: ['patient_id', 'drugName', 'condition', 'review', 'rating', 'date', 'usefulCount', 'review_length'],\n",
       "        num_rows: 128318\n",
       "    })\n",
       "    validation: Dataset({\n",
       "        features: ['patient_id', 'drugName', 'condition', 'review', 'rating', 'date', 'usefulCount', 'review_length'],\n",
       "        num_rows: 32080\n",
       "    })\n",
       "    test: Dataset({\n",
       "        features: ['patient_id', 'drugName', 'condition', 'review', 'rating', 'date', 'usefulCount', 'review_length'],\n",
       "        num_rows: 53471\n",
       "    })\n",
       "})"
      ]
     },
     "execution_count": 5,
     "metadata": {},
     "output_type": "execute_result"
    }
   ],
   "source": [
    "drug_review_dataset"
   ]
  },
  {
   "cell_type": "code",
   "execution_count": 12,
   "id": "3fa5afab",
   "metadata": {},
   "outputs": [],
   "source": [
    "drug_review_dataset = drug_review_dataset.remove_columns(['patient_id', 'drugName', 'rating', 'date', 'usefulCount', 'review_length'])"
   ]
  },
  {
   "cell_type": "code",
   "execution_count": 13,
   "id": "c43514c3",
   "metadata": {},
   "outputs": [
    {
     "data": {
      "text/plain": [
       "DatasetDict({\n",
       "    train: Dataset({\n",
       "        features: ['condition', 'review'],\n",
       "        num_rows: 128318\n",
       "    })\n",
       "    validation: Dataset({\n",
       "        features: ['condition', 'review'],\n",
       "        num_rows: 32080\n",
       "    })\n",
       "    test: Dataset({\n",
       "        features: ['condition', 'review'],\n",
       "        num_rows: 53471\n",
       "    })\n",
       "})"
      ]
     },
     "execution_count": 13,
     "metadata": {},
     "output_type": "execute_result"
    }
   ],
   "source": [
    "drug_review_dataset"
   ]
  },
  {
   "cell_type": "code",
   "execution_count": 14,
   "id": "4ddb126b",
   "metadata": {},
   "outputs": [
    {
     "data": {
      "text/plain": [
       "{'condition': 'human papilloma virus',\n",
       " 'review': '\"I have had HPV for YEARS! Its a horrible, relentless and unflattering disease and it will not go away. Aldara seems to do absolutely nothing, and the doctor that has seen my private parts more than any sexual partner (solely due to the HPV) doesn&#039;t really seem to know how the virus works. I go for freezing once every couple of months or so and they just grow back. With the Aldara it just seems to be all for nothing and sets your hopes up to be dashed. I really wish I was as fortunate as the other reviewers on this site but I can&#039;t say that Aldara works at all! :-(\"'}"
      ]
     },
     "execution_count": 14,
     "metadata": {},
     "output_type": "execute_result"
    }
   ],
   "source": [
    "drug_review_dataset[\"train\"][0]"
   ]
  },
  {
   "cell_type": "code",
   "execution_count": 18,
   "id": "ca178a32",
   "metadata": {},
   "outputs": [
    {
     "data": {
      "text/plain": [
       "638"
      ]
     },
     "execution_count": 18,
     "metadata": {},
     "output_type": "execute_result"
    }
   ],
   "source": [
    "# see unique conditions\n",
    "len(drug_review_dataset[\"train\"].unique(\"condition\"))\n",
    "len(drug_review_dataset[\"test\"].unique(\"condition\"))\n",
    "len(drug_review_dataset[\"validation\"].unique(\"condition\"))"
   ]
  },
  {
   "cell_type": "code",
   "execution_count": null,
   "id": "b685e79d",
   "metadata": {},
   "outputs": [],
   "source": [
    "# data cleaning"
   ]
  },
  {
   "cell_type": "code",
   "execution_count": 22,
   "id": "24fb261e",
   "metadata": {},
   "outputs": [],
   "source": [
    "# Converting to pandas for analysis\n",
    "\n",
    "drug_review_dataset.set_format(\"pandas\")"
   ]
  },
  {
   "cell_type": "code",
   "execution_count": 24,
   "id": "e4348ca8",
   "metadata": {},
   "outputs": [
    {
     "data": {
      "text/html": [
       "<div>\n",
       "<style scoped>\n",
       "    .dataframe tbody tr th:only-of-type {\n",
       "        vertical-align: middle;\n",
       "    }\n",
       "\n",
       "    .dataframe tbody tr th {\n",
       "        vertical-align: top;\n",
       "    }\n",
       "\n",
       "    .dataframe thead th {\n",
       "        text-align: right;\n",
       "    }\n",
       "</style>\n",
       "<table border=\"1\" class=\"dataframe\">\n",
       "  <thead>\n",
       "    <tr style=\"text-align: right;\">\n",
       "      <th></th>\n",
       "      <th>condition</th>\n",
       "      <th>review</th>\n",
       "    </tr>\n",
       "  </thead>\n",
       "  <tbody>\n",
       "    <tr>\n",
       "      <th>0</th>\n",
       "      <td>human papilloma virus</td>\n",
       "      <td>\"I have had HPV for YEARS! Its a horrible, rel...</td>\n",
       "    </tr>\n",
       "    <tr>\n",
       "      <th>1</th>\n",
       "      <td>depression</td>\n",
       "      <td>\"My 13 yr old was prescribed 3mg of abilify pe...</td>\n",
       "    </tr>\n",
       "    <tr>\n",
       "      <th>2</th>\n",
       "      <td>gerd</td>\n",
       "      <td>\"It&amp;#039;s effective however the side effects ...</td>\n",
       "    </tr>\n",
       "  </tbody>\n",
       "</table>\n",
       "</div>"
      ],
      "text/plain": [
       "               condition                                             review\n",
       "0  human papilloma virus  \"I have had HPV for YEARS! Its a horrible, rel...\n",
       "1             depression  \"My 13 yr old was prescribed 3mg of abilify pe...\n",
       "2                   gerd  \"It&#039;s effective however the side effects ..."
      ]
     },
     "execution_count": 24,
     "metadata": {},
     "output_type": "execute_result"
    }
   ],
   "source": [
    "drug_review_dataset[\"train\"][:3]"
   ]
  }
 ],
 "metadata": {
  "kernelspec": {
   "display_name": ".venv",
   "language": "python",
   "name": "python3"
  },
  "language_info": {
   "codemirror_mode": {
    "name": "ipython",
    "version": 3
   },
   "file_extension": ".py",
   "mimetype": "text/x-python",
   "name": "python",
   "nbconvert_exporter": "python",
   "pygments_lexer": "ipython3",
   "version": "3.10.12"
  }
 },
 "nbformat": 4,
 "nbformat_minor": 5
}
