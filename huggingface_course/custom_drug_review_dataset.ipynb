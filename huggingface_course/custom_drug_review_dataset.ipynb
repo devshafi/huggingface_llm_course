{
 "cells": [
  {
   "cell_type": "markdown",
   "id": "db06e13d",
   "metadata": {},
   "source": [
    "### Download the data"
   ]
  },
  {
   "cell_type": "code",
   "execution_count": 40,
   "id": "47d1dd82",
   "metadata": {},
   "outputs": [],
   "source": [
    "data_dir = \"/home/jovyan/Works/Practice/dataset/drugscom\""
   ]
  },
  {
   "cell_type": "code",
   "execution_count": 41,
   "id": "ad0bc7ac",
   "metadata": {},
   "outputs": [],
   "source": [
    "# Do it only for the first time\n",
    "\n",
    "# !wget -P $data_dir \"https://archive.ics.uci.edu/ml/machine-learning-databases/00462/drugsCom_raw.zip\""
   ]
  },
  {
   "cell_type": "code",
   "execution_count": 42,
   "id": "b0d089e8",
   "metadata": {},
   "outputs": [],
   "source": [
    "# Do it only for the first time\n",
    "\n",
    "# !unzip \"$data_dir/drugsCom_raw.zip\" -d \"$data_dir\"\n"
   ]
  },
  {
   "cell_type": "code",
   "execution_count": 43,
   "id": "9521ac6d",
   "metadata": {},
   "outputs": [
    {
     "data": {
      "text/plain": [
       "DatasetDict({\n",
       "    train: Dataset({\n",
       "        features: ['Unnamed: 0', 'drugName', 'condition', 'review', 'rating', 'date', 'usefulCount'],\n",
       "        num_rows: 161297\n",
       "    })\n",
       "    test: Dataset({\n",
       "        features: ['Unnamed: 0', 'drugName', 'condition', 'review', 'rating', 'date', 'usefulCount'],\n",
       "        num_rows: 53766\n",
       "    })\n",
       "})"
      ]
     },
     "execution_count": 43,
     "metadata": {},
     "output_type": "execute_result"
    }
   ],
   "source": [
    "# Load the data from saved directory\n",
    "from datasets import load_dataset\n",
    "\n",
    "data_files = {\n",
    "    \"train\":  f\"{data_dir}/drugsComTrain_raw.tsv\",\n",
    "    \"test\":f\"{data_dir}/drugsComTest_raw.tsv\"\n",
    "}\n",
    "\n",
    "drug_dataset = load_dataset(\"csv\",data_files=data_files, delimiter=\"\\t\")\n",
    "drug_dataset"
   ]
  },
  {
   "cell_type": "code",
   "execution_count": 44,
   "id": "22292748",
   "metadata": {},
   "outputs": [
    {
     "data": {
      "text/plain": [
       "{'Unnamed: 0': 206461,\n",
       " 'drugName': 'Valsartan',\n",
       " 'condition': 'Left Ventricular Dysfunction',\n",
       " 'review': '\"It has no side effect, I take it in combination of Bystolic 5 Mg and Fish Oil\"',\n",
       " 'rating': 9.0,\n",
       " 'date': 'May 20, 2012',\n",
       " 'usefulCount': 27}"
      ]
     },
     "execution_count": 44,
     "metadata": {},
     "output_type": "execute_result"
    }
   ],
   "source": [
    "drug_dataset[\"train\"][0]"
   ]
  },
  {
   "cell_type": "markdown",
   "id": "c6386c11",
   "metadata": {},
   "source": [
    "#### Data Preprocessing"
   ]
  },
  {
   "cell_type": "code",
   "execution_count": 45,
   "id": "f3a73c12",
   "metadata": {},
   "outputs": [],
   "source": [
    "# Filter the none types\n",
    "def filter_nones(x):\n",
    "    return x[\"condition\"] is not None"
   ]
  },
  {
   "cell_type": "code",
   "execution_count": 46,
   "id": "dac14f79",
   "metadata": {},
   "outputs": [],
   "source": [
    "drug_dataset = drug_dataset.filter(filter_nones)"
   ]
  },
  {
   "cell_type": "code",
   "execution_count": 47,
   "id": "c0074137",
   "metadata": {},
   "outputs": [],
   "source": [
    "# Lower the `condition` and `review` column\n",
    "def lower_columns(example):\n",
    "    return {\n",
    "        \"condition\": example[\"condition\"].lower(),\n",
    "        \"review\": example[\"review\"].lower()\n",
    "    }"
   ]
  },
  {
   "cell_type": "code",
   "execution_count": 48,
   "id": "db362618",
   "metadata": {},
   "outputs": [],
   "source": [
    "# Now apply the lower function\n",
    "drug_dataset = drug_dataset.map(lower_columns)"
   ]
  },
  {
   "cell_type": "code",
   "execution_count": 49,
   "id": "86804122",
   "metadata": {},
   "outputs": [
    {
     "data": {
      "text/plain": [
       "{'Unnamed: 0': 206461,\n",
       " 'drugName': 'Valsartan',\n",
       " 'condition': 'left ventricular dysfunction',\n",
       " 'review': '\"it has no side effect, i take it in combination of bystolic 5 mg and fish oil\"',\n",
       " 'rating': 9.0,\n",
       " 'date': 'May 20, 2012',\n",
       " 'usefulCount': 27}"
      ]
     },
     "execution_count": 49,
     "metadata": {},
     "output_type": "execute_result"
    }
   ],
   "source": [
    "drug_dataset[\"train\"][0]"
   ]
  },
  {
   "cell_type": "code",
   "execution_count": 50,
   "id": "85a4b3f3",
   "metadata": {},
   "outputs": [],
   "source": [
    "# We hvae noticed that there are some conditions that have\n",
    "# unusual value that seems like `comment` so removing them\n",
    "def remove_invalid_condition(example):\n",
    "    return \"users found this comment helpful\" not in example[\"condition\"]"
   ]
  },
  {
   "cell_type": "code",
   "execution_count": 51,
   "id": "86c186ba",
   "metadata": {},
   "outputs": [],
   "source": [
    "drug_dataset =  drug_dataset.filter(remove_invalid_condition)"
   ]
  },
  {
   "cell_type": "code",
   "execution_count": 52,
   "id": "5dd11819",
   "metadata": {},
   "outputs": [
    {
     "data": {
      "text/plain": [
       "{'Unnamed: 0': 206461,\n",
       " 'drugName': 'Valsartan',\n",
       " 'condition': 'left ventricular dysfunction',\n",
       " 'review': '\"it has no side effect, i take it in combination of bystolic 5 mg and fish oil\"',\n",
       " 'rating': 9.0,\n",
       " 'date': 'May 20, 2012',\n",
       " 'usefulCount': 27}"
      ]
     },
     "execution_count": 52,
     "metadata": {},
     "output_type": "execute_result"
    }
   ],
   "source": [
    "drug_dataset[\"train\"][0]"
   ]
  },
  {
   "cell_type": "code",
   "execution_count": 53,
   "id": "b8a38b30",
   "metadata": {},
   "outputs": [],
   "source": [
    "# removing some special characters\n",
    "import re\n",
    "\n",
    "def clean_text(example):\n",
    "    # Clean review text\n",
    "    example[\"review\"] = re.sub(r'[\\r\\n\\t]', ' ', example[\"review\"])\n",
    "    # Clean condition text, if needed\n",
    "    example[\"condition\"] = re.sub(r'[\\r\\n\\t]', ' ', example[\"condition\"])\n",
    "    return example\n",
    "\n",
    "# Apply to all splits if using DatasetDict\n",
    "drug_dataset = drug_dataset.map(clean_text)\n"
   ]
  },
  {
   "cell_type": "code",
   "execution_count": 54,
   "id": "2239eb83",
   "metadata": {},
   "outputs": [
    {
     "data": {
      "text/plain": [
       "{'Unnamed: 0': 206461,\n",
       " 'drugName': 'Valsartan',\n",
       " 'condition': 'left ventricular dysfunction',\n",
       " 'review': '\"it has no side effect, i take it in combination of bystolic 5 mg and fish oil\"',\n",
       " 'rating': 9.0,\n",
       " 'date': 'May 20, 2012',\n",
       " 'usefulCount': 27}"
      ]
     },
     "execution_count": 54,
     "metadata": {},
     "output_type": "execute_result"
    }
   ],
   "source": [
    "drug_dataset[\"train\"][0]"
   ]
  },
  {
   "cell_type": "code",
   "execution_count": 55,
   "id": "1a37f487",
   "metadata": {},
   "outputs": [],
   "source": [
    "# unescap html from both the review and condition\n",
    "import html\n",
    "def unescpae_html(example):\n",
    "    return{\n",
    "        \"review\": html.unescape(example[\"review\"]),\n",
    "        \"condition\": html.unescape(example[\"condition\"])\n",
    "    }"
   ]
  },
  {
   "cell_type": "code",
   "execution_count": 56,
   "id": "6b4103b8",
   "metadata": {},
   "outputs": [],
   "source": [
    "drug_dataset = drug_dataset.map(unescpae_html)"
   ]
  },
  {
   "cell_type": "code",
   "execution_count": 57,
   "id": "88ce3c75",
   "metadata": {},
   "outputs": [],
   "source": [
    "# Remove double quote from review column\n",
    "def clean_quotes(example):\n",
    "    example[\"review\"] = example[\"review\"].strip('\"').strip(\"\")\n",
    "    return example"
   ]
  },
  {
   "cell_type": "code",
   "execution_count": 58,
   "id": "9cd302f4",
   "metadata": {},
   "outputs": [],
   "source": [
    "drug_dataset = drug_dataset.map(clean_quotes)"
   ]
  },
  {
   "cell_type": "code",
   "execution_count": 59,
   "id": "e33cd21c",
   "metadata": {},
   "outputs": [
    {
     "data": {
      "text/plain": [
       "{'Unnamed: 0': 206461,\n",
       " 'drugName': 'Valsartan',\n",
       " 'condition': 'left ventricular dysfunction',\n",
       " 'review': 'it has no side effect, i take it in combination of bystolic 5 mg and fish oil',\n",
       " 'rating': 9.0,\n",
       " 'date': 'May 20, 2012',\n",
       " 'usefulCount': 27}"
      ]
     },
     "execution_count": 59,
     "metadata": {},
     "output_type": "execute_result"
    }
   ],
   "source": [
    "drug_dataset[\"train\"][0]"
   ]
  },
  {
   "cell_type": "markdown",
   "id": "65400671",
   "metadata": {},
   "source": [
    "Some of the records have very short `review` columns which might not make sense. So we will keep `review`s that are more 20 word long"
   ]
  },
  {
   "cell_type": "code",
   "execution_count": 60,
   "id": "f425ad60",
   "metadata": {},
   "outputs": [],
   "source": [
    "# Creating new column\n",
    "def review_length(example):\n",
    "    return {\"review_length\": len(example[\"review\"].split())}"
   ]
  },
  {
   "cell_type": "code",
   "execution_count": 61,
   "id": "8ba394b2",
   "metadata": {},
   "outputs": [],
   "source": [
    "drug_dataset = drug_dataset.map(review_length)"
   ]
  },
  {
   "cell_type": "code",
   "execution_count": 62,
   "id": "9af8b293",
   "metadata": {},
   "outputs": [
    {
     "data": {
      "text/plain": [
       "{'Unnamed: 0': 206461,\n",
       " 'drugName': 'Valsartan',\n",
       " 'condition': 'left ventricular dysfunction',\n",
       " 'review': 'it has no side effect, i take it in combination of bystolic 5 mg and fish oil',\n",
       " 'rating': 9.0,\n",
       " 'date': 'May 20, 2012',\n",
       " 'usefulCount': 27,\n",
       " 'review_length': 17}"
      ]
     },
     "execution_count": 62,
     "metadata": {},
     "output_type": "execute_result"
    }
   ],
   "source": [
    "drug_dataset[\"train\"][0]"
   ]
  },
  {
   "cell_type": "code",
   "execution_count": 63,
   "id": "45028e05",
   "metadata": {},
   "outputs": [],
   "source": [
    "# Filter dataset based on review length\n",
    "drug_dataset = drug_dataset.filter(lambda x: x[\"review_length\"] > 20)"
   ]
  },
  {
   "cell_type": "code",
   "execution_count": 64,
   "id": "747b340d",
   "metadata": {},
   "outputs": [],
   "source": [
    "# sort based on review length in reverse\n",
    "drug_dataset =  drug_dataset.sort(\"review_length\")"
   ]
  },
  {
   "cell_type": "code",
   "execution_count": 65,
   "id": "cd350623",
   "metadata": {},
   "outputs": [
    {
     "data": {
      "text/plain": [
       "{'Unnamed: 0': 222064,\n",
       " 'drugName': 'Fluconazole',\n",
       " 'condition': 'vaginal yeast infection',\n",
       " 'review': 'quickest relief ever!  antibiotics always give me a yeast infection! vaginal creams are slow and yucky. fluconazole worked quickly and completely!',\n",
       " 'rating': 10.0,\n",
       " 'date': 'October 1, 2015',\n",
       " 'usefulCount': 25,\n",
       " 'review_length': 21}"
      ]
     },
     "execution_count": 65,
     "metadata": {},
     "output_type": "execute_result"
    }
   ],
   "source": [
    "drug_dataset[\"train\"][0]"
   ]
  },
  {
   "cell_type": "markdown",
   "id": "edebe92e",
   "metadata": {},
   "source": [
    "#### Keeping only tow columns (review and condition)"
   ]
  },
  {
   "cell_type": "code",
   "execution_count": 66,
   "id": "f1c99d28",
   "metadata": {},
   "outputs": [],
   "source": [
    "drug_dataset = drug_dataset.remove_columns([\"drugName\",\"rating\",\"Unnamed: 0\",\"date\",\"usefulCount\",\"review_length\"])"
   ]
  },
  {
   "cell_type": "code",
   "execution_count": 67,
   "id": "5ff7b4f8",
   "metadata": {},
   "outputs": [
    {
     "data": {
      "text/plain": [
       "DatasetDict({\n",
       "    train: Dataset({\n",
       "        features: ['condition', 'review'],\n",
       "        num_rows: 146424\n",
       "    })\n",
       "    test: Dataset({\n",
       "        features: ['condition', 'review'],\n",
       "        num_rows: 48815\n",
       "    })\n",
       "})"
      ]
     },
     "execution_count": 67,
     "metadata": {},
     "output_type": "execute_result"
    }
   ],
   "source": [
    "drug_dataset"
   ]
  },
  {
   "cell_type": "markdown",
   "id": "6f494af4",
   "metadata": {},
   "source": [
    "#### Balancing the training data"
   ]
  },
  {
   "cell_type": "code",
   "execution_count": 68,
   "id": "e88dcef7",
   "metadata": {},
   "outputs": [],
   "source": [
    "train_df = drug_dataset[\"train\"].to_pandas()"
   ]
  },
  {
   "cell_type": "code",
   "execution_count": 69,
   "id": "d7a04e96",
   "metadata": {},
   "outputs": [
    {
     "data": {
      "text/html": [
       "<div>\n",
       "<style scoped>\n",
       "    .dataframe tbody tr th:only-of-type {\n",
       "        vertical-align: middle;\n",
       "    }\n",
       "\n",
       "    .dataframe tbody tr th {\n",
       "        vertical-align: top;\n",
       "    }\n",
       "\n",
       "    .dataframe thead th {\n",
       "        text-align: right;\n",
       "    }\n",
       "</style>\n",
       "<table border=\"1\" class=\"dataframe\">\n",
       "  <thead>\n",
       "    <tr style=\"text-align: right;\">\n",
       "      <th></th>\n",
       "      <th>condition</th>\n",
       "      <th>review</th>\n",
       "    </tr>\n",
       "  </thead>\n",
       "  <tbody>\n",
       "    <tr>\n",
       "      <th>0</th>\n",
       "      <td>vaginal yeast infection</td>\n",
       "      <td>quickest relief ever!  antibiotics always give...</td>\n",
       "    </tr>\n",
       "    <tr>\n",
       "      <th>1</th>\n",
       "      <td>birth control</td>\n",
       "      <td>i have been on nexplanon since 2-20-17 and hav...</td>\n",
       "    </tr>\n",
       "    <tr>\n",
       "      <th>2</th>\n",
       "      <td>surgical prophylaxis</td>\n",
       "      <td>within a few days after minor knee surgery i h...</td>\n",
       "    </tr>\n",
       "    <tr>\n",
       "      <th>3</th>\n",
       "      <td>nausea/vomiting</td>\n",
       "      <td>zofran saved my life; literally. my morning si...</td>\n",
       "    </tr>\n",
       "    <tr>\n",
       "      <th>4</th>\n",
       "      <td>birth control</td>\n",
       "      <td>works great! i will never use anything else.  ...</td>\n",
       "    </tr>\n",
       "  </tbody>\n",
       "</table>\n",
       "</div>"
      ],
      "text/plain": [
       "                 condition                                             review\n",
       "0  vaginal yeast infection  quickest relief ever!  antibiotics always give...\n",
       "1            birth control  i have been on nexplanon since 2-20-17 and hav...\n",
       "2     surgical prophylaxis  within a few days after minor knee surgery i h...\n",
       "3          nausea/vomiting  zofran saved my life; literally. my morning si...\n",
       "4            birth control  works great! i will never use anything else.  ..."
      ]
     },
     "execution_count": 69,
     "metadata": {},
     "output_type": "execute_result"
    }
   ],
   "source": [
    "train_df.head()"
   ]
  },
  {
   "cell_type": "code",
   "execution_count": 70,
   "id": "6c46e681",
   "metadata": {},
   "outputs": [],
   "source": [
    "import pandas as pd\n",
    "\n",
    "# Function to apply balancing rules\n",
    "def balance_condition(group):\n",
    "    count = len(group)\n",
    "    if 35 <= count <= 100:\n",
    "        return group\n",
    "    elif count > 100:\n",
    "        return group.sample(100, random_state=42)  # Downsample to 100\n",
    "    else:\n",
    "        return pd.DataFrame() # Drop this group"
   ]
  },
  {
   "cell_type": "code",
   "execution_count": 71,
   "id": "c19fe7bb",
   "metadata": {},
   "outputs": [
    {
     "name": "stderr",
     "output_type": "stream",
     "text": [
      "/tmp/ipykernel_250806/552759955.py:2: DeprecationWarning: DataFrameGroupBy.apply operated on the grouping columns. This behavior is deprecated, and in a future version of pandas the grouping columns will be excluded from the operation. Either pass `include_groups=False` to exclude the groupings or explicitly select the grouping columns after groupby to silence this warning.\n",
      "  balanced_df = train_df.groupby(\"condition\", group_keys=False).apply(balance_condition)\n"
     ]
    }
   ],
   "source": [
    "# Apply balancing to all conditions\n",
    "balanced_df = train_df.groupby(\"condition\", group_keys=False).apply(balance_condition)"
   ]
  },
  {
   "cell_type": "code",
   "execution_count": 72,
   "id": "bf50d162",
   "metadata": {},
   "outputs": [
    {
     "data": {
      "text/plain": [
       "array(['abnormal uterine bleeding', 'acne', 'acute coronary syndrome',\n",
       "       'adhd', 'alcohol dependence', 'alcohol withdrawal',\n",
       "       'allergic reactions', 'allergic rhinitis', 'allergies', 'alopecia',\n",
       "       \"alzheimer's disease\", 'amenorrhea', 'androgenetic alopecia',\n",
       "       'anesthesia', 'angina', 'ankylosing spondylitis', 'anorexia',\n",
       "       'anxiety', 'anxiety and stress', 'arrhythmia', 'asthma',\n",
       "       'asthma, acute', 'asthma, maintenance', 'atigue',\n",
       "       'atopic dermatitis', 'atrial fibrillation', 'atrophic vaginitis',\n",
       "       'autism', 'back pain', 'bacterial infection',\n",
       "       'bacterial skin infection', 'bacterial vaginitis',\n",
       "       \"barrett's esophagus\", 'basal cell carcinoma',\n",
       "       'benign essential trem', 'benign prostatic hyperplasia',\n",
       "       'binge eating disorde', 'bipolar disorde', 'birth control',\n",
       "       'bladder infection', 'borderline personality disorde',\n",
       "       'bowel preparation', 'breast cance', 'breast cancer, metastatic',\n",
       "       'bronchitis', 'bulimia', 'burns, external', 'cervical dystonia',\n",
       "       'chlamydia infection', 'chronic fatigue syndrome',\n",
       "       'chronic idiopathic constipation', 'chronic myelogenous leukemia',\n",
       "       'chronic pain', 'clostridial infection', 'cluster headaches',\n",
       "       'cold sores', 'cold symptoms', 'conjunctivitis, allergic',\n",
       "       'conjunctivitis, bacterial', 'constipation',\n",
       "       'constipation, chronic', 'constipation, drug induced', 'copd',\n",
       "       'copd, maintenance', 'cough', 'cough and nasal congestion',\n",
       "       \"crohn's disease\", \"crohn's disease, acute\",\n",
       "       \"crohn's disease, maintenance\", 'deep vein thrombosis',\n",
       "       'dental abscess', 'depression', 'dermatitis', 'diabetes, type 1',\n",
       "       'diabetes, type 2', 'diabetic peripheral neuropathy', 'diarrhea',\n",
       "       'diarrhea, chronic', 'dietary supplementation', 'diverticulitis',\n",
       "       'dry eye disease', 'dry skin', 'dysuria', 'eczema', 'edema',\n",
       "       'emale infertility', 'emergency contraception', 'endometriosis',\n",
       "       'epilepsy', 'erectile dysfunction', 'erosive esophagitis',\n",
       "       'eye redness', 'generalized anxiety disorde', 'gerd',\n",
       "       'glaucoma, open angle', 'gout', 'gout, acute',\n",
       "       \"hashimoto's disease\", 'head lice', 'headache', 'heart attack',\n",
       "       'heart failure', 'helicobacter pylori infection', 'hemorrhoids',\n",
       "       'hepatitis c', 'herpes simplex', 'herpes simplex, suppression',\n",
       "       'high blood pressure', 'high cholesterol',\n",
       "       'high cholesterol, familial heterozygous', 'hirsutism',\n",
       "       'hiv infection', 'hot flashes', 'human papilloma virus',\n",
       "       'hyperhidrosis', 'hyperprolactinemia', 'hypersomnia',\n",
       "       'hypertriglyceridemia', 'hypogonadism, male',\n",
       "       'hypothyroidism, after thyroid removal', 'ibromyalgia',\n",
       "       'inflammatory conditions', 'influenza', 'insomnia',\n",
       "       'interstitial cystitis', 'irritable bowel syndrome',\n",
       "       'keratoconjunctivitis sicca', 'keratosis', 'kidney infections',\n",
       "       'light sedation', 'major depressive disorde', 'malaria prevention',\n",
       "       'mance anxiety', 'mania', 'melasma', 'menorrhagia',\n",
       "       'menstrual disorders', 'migraine', 'migraine prevention',\n",
       "       'moterol)', 'motion sickness', 'multiple sclerosis', 'muscle pain',\n",
       "       'muscle spasm', 'narcolepsy', 'nasal congestion',\n",
       "       'nausea/vomiting', 'nausea/vomiting of pregnancy',\n",
       "       'nausea/vomiting, chemotherapy induced', 'neuralgia',\n",
       "       'neuropathic pain', 'neutropenia associated with chemotherapy',\n",
       "       'non-small cell lung cance', 'not listed / othe', 'obesity',\n",
       "       'obsessive compulsive disorde',\n",
       "       'obstructive sleep apnea/hypopnea syndrome',\n",
       "       'onychomycosis, toenail', 'opiate dependence', 'opiate withdrawal',\n",
       "       'opioid-induced constipation',\n",
       "       'organ transplant, rejection prophylaxis', 'osteoarthritis',\n",
       "       'osteoporosis', 'otitis media', 'ovarian cysts',\n",
       "       'overactive bladde', 'pain', 'panic disorde', 'paranoid disorde',\n",
       "       \"parkinson's disease\", 'perimenopausal symptoms', 'period pain',\n",
       "       'peripheral neuropathy', 'plaque psoriasis', 'pneumonia',\n",
       "       'polycystic ovary syndrome', 'post traumatic stress disorde',\n",
       "       'postherpetic neuralgia', 'postmenopausal symptoms',\n",
       "       'postpartum depression', 'premature lab',\n",
       "       'premenstrual dysphoric disorde',\n",
       "       'prevention of bladder infection',\n",
       "       'prevention of thromboembolism in atrial fibrillation',\n",
       "       'prostate cance', 'prostatitis', 'pruritus', 'pseudotumor cerebri',\n",
       "       'psoriasis', 'psoriatic arthritis', 'psychosis',\n",
       "       'pulmonary embolism', 'pulmonary hypertension',\n",
       "       \"raynaud's syndrome\", 'reflex sympathetic dystrophy syndrome',\n",
       "       'renal cell carcinoma', 'restless legs syndrome',\n",
       "       'rheumatoid arthritis', 'rhinitis', 'rosacea',\n",
       "       'schizoaffective disorde', 'schizophrenia', 'sciatica',\n",
       "       'seasonal allergic conjunctivitis', 'sedation',\n",
       "       'seizure prevention', 'seizures',\n",
       "       'sexual dysfunction, ssri induced', 'shift work sleep disorde',\n",
       "       'sinus symptoms', 'sinusitis', \"sjogren's syndrome\",\n",
       "       'skin and structure infection', 'skin or soft tissue infection',\n",
       "       'smoking cessation', 'social anxiety disorde', 'stomach ulce',\n",
       "       'strep throat', 'supraventricular tachycardia',\n",
       "       'systemic lupus erythematosus', 'tonsillitis/pharyngitis',\n",
       "       \"tourette's syndrome\", 'trichomoniasis', 'trigeminal neuralgia',\n",
       "       'ulcerative colitis', 'ulcerative colitis, active',\n",
       "       'ulcerative colitis, maintenance', 'underactive thyroid',\n",
       "       'upper respiratory tract infection', 'urinary incontinence',\n",
       "       'urinary tract infection', 'urinary tract stones', 'urticaria',\n",
       "       'uterine fibroids', 'vaginal yeast infection', 'vertig',\n",
       "       'vitamin/mineral supplementation during pregnancy/lactation',\n",
       "       'weight loss'], dtype=object)"
      ]
     },
     "execution_count": 72,
     "metadata": {},
     "output_type": "execute_result"
    }
   ],
   "source": [
    "(balanced_df[\"condition\"].unique())"
   ]
  },
  {
   "cell_type": "code",
   "execution_count": 73,
   "id": "3ab1dd7c",
   "metadata": {},
   "outputs": [
    {
     "data": {
      "text/html": [
       "<div>\n",
       "<style scoped>\n",
       "    .dataframe tbody tr th:only-of-type {\n",
       "        vertical-align: middle;\n",
       "    }\n",
       "\n",
       "    .dataframe tbody tr th {\n",
       "        vertical-align: top;\n",
       "    }\n",
       "\n",
       "    .dataframe thead th {\n",
       "        text-align: right;\n",
       "    }\n",
       "</style>\n",
       "<table border=\"1\" class=\"dataframe\">\n",
       "  <thead>\n",
       "    <tr style=\"text-align: right;\">\n",
       "      <th></th>\n",
       "      <th>condition</th>\n",
       "      <th>review</th>\n",
       "    </tr>\n",
       "  </thead>\n",
       "  <tbody>\n",
       "    <tr>\n",
       "      <th>33964</th>\n",
       "      <td>abnormal uterine bleeding</td>\n",
       "      <td>i started my shot october 2016 and started ble...</td>\n",
       "    </tr>\n",
       "    <tr>\n",
       "      <th>103638</th>\n",
       "      <td>abnormal uterine bleeding</td>\n",
       "      <td>took the shot for three years and it was horri...</td>\n",
       "    </tr>\n",
       "    <tr>\n",
       "      <th>38776</th>\n",
       "      <td>abnormal uterine bleeding</td>\n",
       "      <td>inserting mirena felt like getting an abortion...</td>\n",
       "    </tr>\n",
       "    <tr>\n",
       "      <th>48016</th>\n",
       "      <td>abnormal uterine bleeding</td>\n",
       "      <td>this is my third week on this pill . i have ta...</td>\n",
       "    </tr>\n",
       "    <tr>\n",
       "      <th>118652</th>\n",
       "      <td>abnormal uterine bleeding</td>\n",
       "      <td>i'm 38 and have been a heavy bleeder for most ...</td>\n",
       "    </tr>\n",
       "    <tr>\n",
       "      <th>126571</th>\n",
       "      <td>abnormal uterine bleeding</td>\n",
       "      <td>i am 39 years old my whole life i had normal p...</td>\n",
       "    </tr>\n",
       "    <tr>\n",
       "      <th>51071</th>\n",
       "      <td>abnormal uterine bleeding</td>\n",
       "      <td>this birth control is awesome as far as its ef...</td>\n",
       "    </tr>\n",
       "    <tr>\n",
       "      <th>143711</th>\n",
       "      <td>abnormal uterine bleeding</td>\n",
       "      <td>i am 52 years old and clearly have been throug...</td>\n",
       "    </tr>\n",
       "    <tr>\n",
       "      <th>138165</th>\n",
       "      <td>abnormal uterine bleeding</td>\n",
       "      <td>i have been on the depo shot since february 20...</td>\n",
       "    </tr>\n",
       "    <tr>\n",
       "      <th>15519</th>\n",
       "      <td>abnormal uterine bleeding</td>\n",
       "      <td>i find that i sweat a lot when taking this bir...</td>\n",
       "    </tr>\n",
       "    <tr>\n",
       "      <th>102489</th>\n",
       "      <td>abnormal uterine bleeding</td>\n",
       "      <td>i have large fibroids and had such heavy bleed...</td>\n",
       "    </tr>\n",
       "    <tr>\n",
       "      <th>17117</th>\n",
       "      <td>abnormal uterine bleeding</td>\n",
       "      <td>i got this shot in january after having my son...</td>\n",
       "    </tr>\n",
       "    <tr>\n",
       "      <th>135233</th>\n",
       "      <td>abnormal uterine bleeding</td>\n",
       "      <td>my experience with provera has been a very pai...</td>\n",
       "    </tr>\n",
       "    <tr>\n",
       "      <th>10715</th>\n",
       "      <td>abnormal uterine bleeding</td>\n",
       "      <td>terrible bc.  i get sick just thinking of taki...</td>\n",
       "    </tr>\n",
       "    <tr>\n",
       "      <th>92355</th>\n",
       "      <td>abnormal uterine bleeding</td>\n",
       "      <td>i was put on this pill to help treat high  tes...</td>\n",
       "    </tr>\n",
       "  </tbody>\n",
       "</table>\n",
       "</div>"
      ],
      "text/plain": [
       "                        condition  \\\n",
       "33964   abnormal uterine bleeding   \n",
       "103638  abnormal uterine bleeding   \n",
       "38776   abnormal uterine bleeding   \n",
       "48016   abnormal uterine bleeding   \n",
       "118652  abnormal uterine bleeding   \n",
       "126571  abnormal uterine bleeding   \n",
       "51071   abnormal uterine bleeding   \n",
       "143711  abnormal uterine bleeding   \n",
       "138165  abnormal uterine bleeding   \n",
       "15519   abnormal uterine bleeding   \n",
       "102489  abnormal uterine bleeding   \n",
       "17117   abnormal uterine bleeding   \n",
       "135233  abnormal uterine bleeding   \n",
       "10715   abnormal uterine bleeding   \n",
       "92355   abnormal uterine bleeding   \n",
       "\n",
       "                                                   review  \n",
       "33964   i started my shot october 2016 and started ble...  \n",
       "103638  took the shot for three years and it was horri...  \n",
       "38776   inserting mirena felt like getting an abortion...  \n",
       "48016   this is my third week on this pill . i have ta...  \n",
       "118652  i'm 38 and have been a heavy bleeder for most ...  \n",
       "126571  i am 39 years old my whole life i had normal p...  \n",
       "51071   this birth control is awesome as far as its ef...  \n",
       "143711  i am 52 years old and clearly have been throug...  \n",
       "138165  i have been on the depo shot since february 20...  \n",
       "15519   i find that i sweat a lot when taking this bir...  \n",
       "102489  i have large fibroids and had such heavy bleed...  \n",
       "17117   i got this shot in january after having my son...  \n",
       "135233  my experience with provera has been a very pai...  \n",
       "10715   terrible bc.  i get sick just thinking of taki...  \n",
       "92355   i was put on this pill to help treat high  tes...  "
      ]
     },
     "execution_count": 73,
     "metadata": {},
     "output_type": "execute_result"
    }
   ],
   "source": [
    "balanced_df.head(15)"
   ]
  },
  {
   "cell_type": "code",
   "execution_count": 74,
   "id": "6dc7f454",
   "metadata": {},
   "outputs": [],
   "source": [
    "# Converting data frame to dataset\n",
    "\n",
    "from datasets import Dataset\n",
    "drug_dataset = Dataset.from_pandas(balanced_df)"
   ]
  },
  {
   "cell_type": "code",
   "execution_count": 75,
   "id": "292c9677",
   "metadata": {},
   "outputs": [],
   "source": [
    "# creating train and test split from this curated data\n",
    "condition_dataset_clean = drug_dataset.train_test_split(train_size=0.8, seed=42)\n",
    "condition_dataset_clean[\"validation\"] = condition_dataset_clean.pop(\"test\")"
   ]
  },
  {
   "cell_type": "code",
   "execution_count": 78,
   "id": "a3e3867c",
   "metadata": {},
   "outputs": [
    {
     "data": {
      "text/plain": [
       "DatasetDict({\n",
       "    train: Dataset({\n",
       "        features: ['condition', 'review', '__index_level_0__'],\n",
       "        num_rows: 16189\n",
       "    })\n",
       "    validation: Dataset({\n",
       "        features: ['condition', 'review', '__index_level_0__'],\n",
       "        num_rows: 4048\n",
       "    })\n",
       "})"
      ]
     },
     "execution_count": 78,
     "metadata": {},
     "output_type": "execute_result"
    }
   ],
   "source": [
    "condition_dataset_clean"
   ]
  },
  {
   "cell_type": "code",
   "execution_count": 77,
   "id": "279075af",
   "metadata": {},
   "outputs": [
    {
     "name": "stderr",
     "output_type": "stream",
     "text": [
      "Saving the dataset (1/1 shards): 100%|██████████| 16189/16189 [00:00<00:00, 173129.56 examples/s]\n",
      "Saving the dataset (1/1 shards): 100%|██████████| 4048/4048 [00:00<00:00, 155358.81 examples/s]\n"
     ]
    }
   ],
   "source": [
    "condition_dataset_clean.save_to_disk(f\"{data_dir}/drug_review-condition\")"
   ]
  }
 ],
 "metadata": {
  "kernelspec": {
   "display_name": ".venv",
   "language": "python",
   "name": "python3"
  },
  "language_info": {
   "codemirror_mode": {
    "name": "ipython",
    "version": 3
   },
   "file_extension": ".py",
   "mimetype": "text/x-python",
   "name": "python",
   "nbconvert_exporter": "python",
   "pygments_lexer": "ipython3",
   "version": "3.12.3"
  }
 },
 "nbformat": 4,
 "nbformat_minor": 5
}
